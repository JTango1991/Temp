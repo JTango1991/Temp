{
 "cells": [
  {
   "cell_type": "code",
   "execution_count": 1,
   "metadata": {},
   "outputs": [],
   "source": [
    "from oandapyV20 import API\n",
    "# Endpoints\n",
    "import oandapyV20.endpoints.accounts as accounts \n",
    "import oandapyV20.endpoints.instruments as v20instruments\n",
    "import oandapyV20.endpoints.orders as orders \n",
    "import oandapyV20.endpoints.positions as positions\n",
    "import oandapyV20.endpoints.trades as trades\n",
    "# Requests\n",
    "from oandapyV20.contrib.requests import PositionCloseRequest\n",
    "from oandapyV20.contrib.requests import MarketOrderRequest\n",
    "from oandapyV20.contrib.requests import TakeProfitDetails\n",
    "from oandapyV20.contrib.requests import TrailingStopLossDetails\n",
    "from oandapyV20.contrib.requests import StopLossDetails"
   ]
  },
  {
   "cell_type": "code",
   "execution_count": 3,
   "metadata": {},
   "outputs": [],
   "source": [
    "class ApiExecution:\n",
    "    def __init__(self, vAccountID, vToken):\n",
    "        self.account_id = vAccountID\n",
    "        self.client = API(access_token=vToken)\n",
    "        \n",
    "        \n",
    "    def market_spot(self, vPair, vTimeframe, vRecords):\n",
    "        params = {\"count\" : int(vRecords), \"granularity\" : vTimeframe}\n",
    "        return self.client.request(v20instruments.InstrumentsCandles(instrument=vPair,params=params))\n",
    "\n",
    "    \n",
    "    def account_info(self):\n",
    "        return self.client.request(accounts.AccountDetails(self.account_id))\n",
    "    \n",
    "    \n",
    "    def open_order(self, vPair, vDirection, vUnits, vTakeProfitPrice, vStopLossPrice, vTrailingStopLoss):\n",
    "        TP = TakeProfitDetails(price=float(vTakeProfitPrice)).data if vTakeProfitPrice != 0 else None\n",
    "        SL = StopLossDetails(price=float(vStopLossPrice)).data if vStopLossPrice != 0 else None\n",
    "        TSL = TrailingStopLossDetails(distance=float(vTrailingStopLoss)).data if vTrailingStopLoss != 0 else None\n",
    "\n",
    "        mo = MarketOrderRequest(instrument=vPair, units=int(vUnits), takeProfitOnFill=TP, stopLossOnFill=SL, trailingStopLossOnFill=TSL)\n",
    "        r = orders.OrderCreate(self.account_id, data=mo.data)\n",
    "        return self.client.request(r)    \n",
    "    \n",
    "    \n",
    "    def close_order(self, vPair, vUnits, vDirection):\n",
    "        if vDirection == 'Short':\n",
    "            ordr = PositionCloseRequest(shortUnits=int(vUnits))\n",
    "        else : \n",
    "            ordr = PositionCloseRequest(longUnits=int(vUnits))\n",
    "            \n",
    "        return self.client.request(positions.PositionClose(self.account_id, instrument=vPair,data=ordr.data))"
   ]
  },
  {
   "cell_type": "code",
   "execution_count": 4,
   "metadata": {},
   "outputs": [],
   "source": [
    "token = 'ab76634af1721b2f72a277a400a63ef5-1d702d9778da8a0bda76a049a31aea6e'\n",
    "accountID = '101-004-16285502-001'"
   ]
  },
  {
   "cell_type": "code",
   "execution_count": 5,
   "metadata": {},
   "outputs": [],
   "source": [
    "oanda = ApiExecution(accountID , token)"
   ]
  },
  {
   "cell_type": "code",
   "execution_count": 6,
   "metadata": {},
   "outputs": [
    {
     "data": {
      "text/plain": [
       "'1.38806'"
      ]
     },
     "execution_count": 6,
     "metadata": {},
     "output_type": "execute_result"
    }
   ],
   "source": [
    "oanda.market_spot('GBP_USD','S15',1)['candles'][0]['mid']['c']"
   ]
  },
  {
   "cell_type": "code",
   "execution_count": 37,
   "metadata": {},
   "outputs": [
    {
     "data": {
      "text/plain": [
       "{'account': {'guaranteedStopLossOrderMode': 'DISABLED',\n",
       "  'hedgingEnabled': False,\n",
       "  'id': '101-004-16285502-001',\n",
       "  'createdTime': '2020-08-30T07:48:54.934000655Z',\n",
       "  'currency': 'GBP',\n",
       "  'createdByUserID': 16285502,\n",
       "  'alias': 'Primary',\n",
       "  'marginRate': '0.02',\n",
       "  'lastTransactionID': '224',\n",
       "  'balance': '100019.3515',\n",
       "  'openTradeCount': 0,\n",
       "  'openPositionCount': 0,\n",
       "  'pendingOrderCount': 0,\n",
       "  'pl': '104.3630',\n",
       "  'resettablePL': '104.3630',\n",
       "  'resettablePLTime': '0',\n",
       "  'financing': '-85.0115',\n",
       "  'commission': '0.0000',\n",
       "  'dividendAdjustment': '0',\n",
       "  'guaranteedExecutionFees': '0.0000',\n",
       "  'orders': [],\n",
       "  'positions': [{'instrument': 'EUR_USD',\n",
       "    'long': {'units': '0',\n",
       "     'pl': '142.7888',\n",
       "     'resettablePL': '142.7888',\n",
       "     'financing': '-85.0115',\n",
       "     'dividendAdjustment': '0.0000',\n",
       "     'guaranteedExecutionFees': '0.0000',\n",
       "     'unrealizedPL': '0.0000'},\n",
       "    'short': {'units': '0',\n",
       "     'pl': '0.0000',\n",
       "     'resettablePL': '0.0000',\n",
       "     'financing': '0.0000',\n",
       "     'dividendAdjustment': '0.0000',\n",
       "     'guaranteedExecutionFees': '0.0000',\n",
       "     'unrealizedPL': '0.0000'},\n",
       "    'pl': '142.7888',\n",
       "    'resettablePL': '142.7888',\n",
       "    'financing': '-85.0115',\n",
       "    'commission': '0.0000',\n",
       "    'dividendAdjustment': '0.0000',\n",
       "    'guaranteedExecutionFees': '0.0000',\n",
       "    'unrealizedPL': '0.0000'},\n",
       "   {'instrument': 'GBP_USD',\n",
       "    'long': {'units': '0',\n",
       "     'pl': '-38.3781',\n",
       "     'resettablePL': '-38.3781',\n",
       "     'financing': '0.0000',\n",
       "     'dividendAdjustment': '0.0000',\n",
       "     'guaranteedExecutionFees': '0.0000',\n",
       "     'unrealizedPL': '0.0000'},\n",
       "    'short': {'units': '0',\n",
       "     'pl': '-0.0079',\n",
       "     'resettablePL': '-0.0079',\n",
       "     'financing': '0.0000',\n",
       "     'dividendAdjustment': '0.0000',\n",
       "     'guaranteedExecutionFees': '0.0000',\n",
       "     'unrealizedPL': '0.0000'},\n",
       "    'pl': '-38.3860',\n",
       "    'resettablePL': '-38.3860',\n",
       "    'financing': '0.0000',\n",
       "    'commission': '0.0000',\n",
       "    'dividendAdjustment': '0.0000',\n",
       "    'guaranteedExecutionFees': '0.0000',\n",
       "    'unrealizedPL': '0.0000'},\n",
       "   {'instrument': 'AUD_USD',\n",
       "    'long': {'units': '0',\n",
       "     'pl': '0.0000',\n",
       "     'resettablePL': '0.0000',\n",
       "     'financing': '0.0000',\n",
       "     'dividendAdjustment': '0.0000',\n",
       "     'guaranteedExecutionFees': '0.0000',\n",
       "     'unrealizedPL': '0.0000'},\n",
       "    'short': {'units': '0',\n",
       "     'pl': '-0.0398',\n",
       "     'resettablePL': '-0.0398',\n",
       "     'financing': '0.0000',\n",
       "     'dividendAdjustment': '0.0000',\n",
       "     'guaranteedExecutionFees': '0.0000',\n",
       "     'unrealizedPL': '0.0000'},\n",
       "    'pl': '-0.0398',\n",
       "    'resettablePL': '-0.0398',\n",
       "    'financing': '0.0000',\n",
       "    'commission': '0.0000',\n",
       "    'dividendAdjustment': '0.0000',\n",
       "    'guaranteedExecutionFees': '0.0000',\n",
       "    'unrealizedPL': '0.0000'}],\n",
       "  'trades': [],\n",
       "  'unrealizedPL': '0.0000',\n",
       "  'NAV': '100019.3515',\n",
       "  'marginUsed': '0.0000',\n",
       "  'marginAvailable': '100019.3515',\n",
       "  'positionValue': '0.0000',\n",
       "  'marginCloseoutUnrealizedPL': '0.0000',\n",
       "  'marginCloseoutNAV': '100019.3515',\n",
       "  'marginCloseoutMarginUsed': '0.0000',\n",
       "  'marginCloseoutPositionValue': '0.0000',\n",
       "  'marginCloseoutPercent': '0.00000',\n",
       "  'withdrawalLimit': '100019.3515',\n",
       "  'marginCallMarginUsed': '0.0000',\n",
       "  'marginCallPercent': '0.00000'},\n",
       " 'lastTransactionID': '224'}"
      ]
     },
     "execution_count": 37,
     "metadata": {},
     "output_type": "execute_result"
    }
   ],
   "source": [
    "oanda.account_info()"
   ]
  },
  {
   "cell_type": "code",
   "execution_count": 20,
   "metadata": {},
   "outputs": [
    {
     "data": {
      "text/plain": [
       "{'orderCreateTransaction': {'id': '212',\n",
       "  'accountID': '101-004-16285502-001',\n",
       "  'userID': 16285502,\n",
       "  'batchID': '212',\n",
       "  'requestID': '78830012886577839',\n",
       "  'time': '2021-03-02T07:34:38.193680388Z',\n",
       "  'type': 'MARKET_ORDER',\n",
       "  'instrument': 'EUR_USD',\n",
       "  'units': '100',\n",
       "  'timeInForce': 'FOK',\n",
       "  'positionFill': 'DEFAULT',\n",
       "  'trailingStopLossOnFill': {'distance': '0.00050', 'timeInForce': 'GTC'},\n",
       "  'reason': 'CLIENT_ORDER'},\n",
       " 'orderFillTransaction': {'id': '213',\n",
       "  'accountID': '101-004-16285502-001',\n",
       "  'userID': 16285502,\n",
       "  'batchID': '212',\n",
       "  'requestID': '78830012886577839',\n",
       "  'time': '2021-03-02T07:34:38.193680388Z',\n",
       "  'type': 'ORDER_FILL',\n",
       "  'orderID': '212',\n",
       "  'instrument': 'EUR_USD',\n",
       "  'units': '100',\n",
       "  'requestedUnits': '100',\n",
       "  'price': '1.20098',\n",
       "  'pl': '0.0000',\n",
       "  'quotePL': '0',\n",
       "  'financing': '0.0000',\n",
       "  'baseFinancing': '0',\n",
       "  'commission': '0.0000',\n",
       "  'accountBalance': '100019.3914',\n",
       "  'gainQuoteHomeConversionFactor': '0.717068022141',\n",
       "  'lossQuoteHomeConversionFactor': '0.724274735932',\n",
       "  'guaranteedExecutionFee': '0.0000',\n",
       "  'quoteGuaranteedExecutionFee': '0',\n",
       "  'halfSpreadCost': '0.0022',\n",
       "  'fullVWAP': '1.20098',\n",
       "  'reason': 'MARKET_ORDER',\n",
       "  'tradeOpened': {'price': '1.20098',\n",
       "   'tradeID': '213',\n",
       "   'units': '100',\n",
       "   'guaranteedExecutionFee': '0.0000',\n",
       "   'quoteGuaranteedExecutionFee': '0',\n",
       "   'halfSpreadCost': '0.0022',\n",
       "   'initialMarginRequired': '2.8821'},\n",
       "  'fullPrice': {'closeoutBid': '1.20088',\n",
       "   'closeoutAsk': '1.20101',\n",
       "   'timestamp': '2021-03-02T07:34:34.141153396Z',\n",
       "   'bids': [{'price': '1.20092', 'liquidity': '1000000'},\n",
       "    {'price': '1.20091', 'liquidity': '2000000'},\n",
       "    {'price': '1.20090', 'liquidity': '2000000'},\n",
       "    {'price': '1.20088', 'liquidity': '5000000'}],\n",
       "   'asks': [{'price': '1.20098', 'liquidity': '1000000'},\n",
       "    {'price': '1.20099', 'liquidity': '2000000'},\n",
       "    {'price': '1.20100', 'liquidity': '2000000'},\n",
       "    {'price': '1.20101', 'liquidity': '5000000'}]},\n",
       "  'homeConversionFactors': {'gainQuoteHome': {'factor': '0.71706802214144'},\n",
       "   'lossQuoteHome': {'factor': '0.72427473593180'},\n",
       "   'gainBaseHome': {'factor': '0.86117250'},\n",
       "   'lossBaseHome': {'factor': '0.86982750'}}},\n",
       " 'relatedTransactionIDs': ['212', '213', '214'],\n",
       " 'lastTransactionID': '214'}"
      ]
     },
     "execution_count": 20,
     "metadata": {},
     "output_type": "execute_result"
    }
   ],
   "source": [
    "oanda.open_order('EUR_USD', 'Long', 100, 0, 0, 0.0005)"
   ]
  },
  {
   "cell_type": "code",
   "execution_count": 73,
   "metadata": {},
   "outputs": [
    {
     "data": {
      "text/plain": [
       "{'shortOrderCreateTransaction': {'id': '205',\n",
       "  'accountID': '101-004-16285502-001',\n",
       "  'userID': 16285502,\n",
       "  'batchID': '205',\n",
       "  'requestID': '24786732020179002',\n",
       "  'time': '2021-03-02T01:55:32.767748468Z',\n",
       "  'type': 'MARKET_ORDER',\n",
       "  'instrument': 'AUD_USD',\n",
       "  'units': '100',\n",
       "  'timeInForce': 'FOK',\n",
       "  'positionFill': 'REDUCE_ONLY',\n",
       "  'reason': 'POSITION_CLOSEOUT',\n",
       "  'shortPositionCloseout': {'instrument': 'AUD_USD', 'units': '100'}},\n",
       " 'shortOrderFillTransaction': {'id': '206',\n",
       "  'accountID': '101-004-16285502-001',\n",
       "  'userID': 16285502,\n",
       "  'batchID': '205',\n",
       "  'requestID': '24786732020179002',\n",
       "  'time': '2021-03-02T01:55:32.767748468Z',\n",
       "  'type': 'ORDER_FILL',\n",
       "  'orderID': '205',\n",
       "  'instrument': 'AUD_USD',\n",
       "  'units': '100',\n",
       "  'requestedUnits': '100',\n",
       "  'price': '0.77551',\n",
       "  'pl': '-0.0311',\n",
       "  'quotePL': '-0.04300',\n",
       "  'financing': '0.0000',\n",
       "  'baseFinancing': '0.00000000000000',\n",
       "  'commission': '0.0000',\n",
       "  'accountBalance': '100019.3914',\n",
       "  'gainQuoteHomeConversionFactor': '0.715521056611',\n",
       "  'lossQuoteHomeConversionFactor': '0.722712223009',\n",
       "  'guaranteedExecutionFee': '0.0000',\n",
       "  'quoteGuaranteedExecutionFee': '0',\n",
       "  'halfSpreadCost': '0.0050',\n",
       "  'fullVWAP': '0.77551',\n",
       "  'reason': 'MARKET_ORDER_POSITION_CLOSEOUT',\n",
       "  'tradesClosed': [{'tradeID': '204',\n",
       "    'units': '100',\n",
       "    'realizedPL': '-0.0311',\n",
       "    'financing': '0.0000',\n",
       "    'baseFinancing': '0.00000000000000',\n",
       "    'price': '0.77551',\n",
       "    'guaranteedExecutionFee': '0.0000',\n",
       "    'quoteGuaranteedExecutionFee': '0',\n",
       "    'halfSpreadCost': '0.0050'}],\n",
       "  'fullPrice': {'closeoutBid': '0.77537',\n",
       "   'closeoutAsk': '0.77551',\n",
       "   'timestamp': '2021-03-02T01:55:31.294803869Z',\n",
       "   'bids': [{'price': '0.77537', 'liquidity': '10000000'}],\n",
       "   'asks': [{'price': '0.77551', 'liquidity': '10000000'}]},\n",
       "  'homeConversionFactors': {'gainQuoteHome': {'factor': '0.71552105661071'},\n",
       "   'lossQuoteHome': {'factor': '0.72271222300881'},\n",
       "   'gainBaseHome': {'factor': '0.55484457796031'},\n",
       "   'lossBaseHome': {'factor': '0.56042090537699'}}},\n",
       " 'relatedTransactionIDs': ['205', '206'],\n",
       " 'lastTransactionID': '206'}"
      ]
     },
     "execution_count": 73,
     "metadata": {},
     "output_type": "execute_result"
    }
   ],
   "source": [
    "oanda.close_order('AUD_USD',100,'Short')"
   ]
  },
  {
   "cell_type": "code",
   "execution_count": 28,
   "metadata": {},
   "outputs": [
    {
     "name": "stdout",
     "output_type": "stream",
     "text": [
      "REQUEST:v3/accounts/101-004-16285502-001/trades\n"
     ]
    }
   ],
   "source": [
    "token = 'ab76634af1721b2f72a277a400a63ef5-1d702d9778da8a0bda76a049a31aea6e'\n",
    "accountID = '101-004-16285502-001'\n",
    "api = API(access_token=token)\n",
    "r = trades.TradesList(accountID)\n",
    "# show the endpoint as it is constructed for this call\n",
    "print(\"REQUEST:{}\".format(r))\n",
    "rv = api.request(r)"
   ]
  },
  {
   "cell_type": "code",
   "execution_count": 36,
   "metadata": {},
   "outputs": [
    {
     "data": {
      "text/plain": [
       "[{'id': '208',\n",
       "  'instrument': 'AUD_USD',\n",
       "  'price': '0.77523',\n",
       "  'openTime': '2021-03-02T07:08:51.655885526Z',\n",
       "  'initialUnits': '-100',\n",
       "  'initialMarginRequired': '2.7934',\n",
       "  'state': 'OPEN',\n",
       "  'currentUnits': '-100',\n",
       "  'realizedPL': '0.0000',\n",
       "  'financing': '0.0000',\n",
       "  'dividendAdjustment': '0.0000',\n",
       "  'unrealizedPL': '0.0308',\n",
       "  'marginUsed': '2.7898',\n",
       "  'takeProfitOrder': {'id': '209',\n",
       "   'createTime': '2021-03-02T07:15:12.338824055Z',\n",
       "   'type': 'TAKE_PROFIT',\n",
       "   'tradeID': '208',\n",
       "   'price': '0.75000',\n",
       "   'timeInForce': 'GTC',\n",
       "   'triggerCondition': 'DEFAULT',\n",
       "   'state': 'PENDING'},\n",
       "  'stopLossOrder': {'id': '210',\n",
       "   'createTime': '2021-03-02T07:15:12.338824055Z',\n",
       "   'type': 'STOP_LOSS',\n",
       "   'tradeID': '208',\n",
       "   'price': '0.78000',\n",
       "   'timeInForce': 'GTC',\n",
       "   'triggerCondition': 'DEFAULT',\n",
       "   'state': 'PENDING'},\n",
       "  'trailingStopLossOrder': {'id': '218',\n",
       "   'createTime': '2021-03-02T08:13:57.656294066Z',\n",
       "   'type': 'TRAILING_STOP_LOSS',\n",
       "   'tradeID': '208',\n",
       "   'distance': '0.00070',\n",
       "   'timeInForce': 'GTC',\n",
       "   'triggerCondition': 'DEFAULT',\n",
       "   'state': 'PENDING',\n",
       "   'trailingStopValue': '0.77550'}}]"
      ]
     },
     "execution_count": 36,
     "metadata": {},
     "output_type": "execute_result"
    }
   ],
   "source": [
    "rv['trades']"
   ]
  },
  {
   "cell_type": "code",
   "execution_count": 33,
   "metadata": {},
   "outputs": [
    {
     "ename": "V20Error",
     "evalue": "{\"trailingStopLossOrderRejectTransaction\":{\"id\":\"221\",\"accountID\":\"101-004-16285502-001\",\"userID\":16285502,\"batchID\":\"221\",\"requestID\":\"42801226033247603\",\"time\":\"2021-03-02T08:15:02.000950205Z\",\"type\":\"TRAILING_STOP_LOSS_ORDER_REJECT\",\"rejectReason\":\"PRICE_DISTANCE_INVALID\",\"tradeID\":\"208\",\"timeInForce\":\"GTC\",\"triggerCondition\":\"DEFAULT\",\"distance\":\"0.00000\",\"reason\":\"REPLACEMENT\",\"replacesOrderID\":\"218\",\"intendedReplacesOrderID\":\"218\"},\"relatedTransactionIDs\":[\"221\"],\"lastTransactionID\":\"221\",\"errorMessage\":\"The price distance specifed is invalid\",\"errorCode\":\"PRICE_DISTANCE_INVALID\"}",
     "output_type": "error",
     "traceback": [
      "\u001b[1;31m---------------------------------------------------------------------------\u001b[0m",
      "\u001b[1;31mV20Error\u001b[0m                                  Traceback (most recent call last)",
      "\u001b[1;32m<ipython-input-33-f3b7444ee0ca>\u001b[0m in \u001b[0;36m<module>\u001b[1;34m\u001b[0m\n\u001b[0;32m      8\u001b[0m r = trades.TradeCRCDO(accountID=accountID,\n\u001b[0;32m      9\u001b[0m tradeID='208',data=data)\n\u001b[1;32m---> 10\u001b[1;33m \u001b[0mapi\u001b[0m\u001b[1;33m.\u001b[0m\u001b[0mrequest\u001b[0m\u001b[1;33m(\u001b[0m\u001b[0mr\u001b[0m\u001b[1;33m)\u001b[0m\u001b[1;33m\u001b[0m\u001b[1;33m\u001b[0m\u001b[0m\n\u001b[0m",
      "\u001b[1;32m~\\AppData\\Local\\Programs\\Python\\Python38-32\\lib\\site-packages\\oandapyV20\\oandapyV20.py\u001b[0m in \u001b[0;36mrequest\u001b[1;34m(self, endpoint)\u001b[0m\n\u001b[0;32m    303\u001b[0m                 endpoint)\n\u001b[0;32m    304\u001b[0m \u001b[1;33m\u001b[0m\u001b[0m\n\u001b[1;32m--> 305\u001b[1;33m             response = self.__request(method, url,\n\u001b[0m\u001b[0;32m    306\u001b[0m                                       request_args, headers=headers)\n\u001b[0;32m    307\u001b[0m             \u001b[0mcontent\u001b[0m \u001b[1;33m=\u001b[0m \u001b[0mresponse\u001b[0m\u001b[1;33m.\u001b[0m\u001b[0mcontent\u001b[0m\u001b[1;33m.\u001b[0m\u001b[0mdecode\u001b[0m\u001b[1;33m(\u001b[0m\u001b[1;34m'utf-8'\u001b[0m\u001b[1;33m)\u001b[0m\u001b[1;33m\u001b[0m\u001b[1;33m\u001b[0m\u001b[0m\n",
      "\u001b[1;32m~\\AppData\\Local\\Programs\\Python\\Python38-32\\lib\\site-packages\\oandapyV20\\oandapyV20.py\u001b[0m in \u001b[0;36m__request\u001b[1;34m(self, method, url, request_args, headers, stream)\u001b[0m\n\u001b[0;32m    240\u001b[0m                          \u001b[0mresponse\u001b[0m\u001b[1;33m.\u001b[0m\u001b[0mstatus_code\u001b[0m\u001b[1;33m,\u001b[0m\u001b[1;33m\u001b[0m\u001b[1;33m\u001b[0m\u001b[0m\n\u001b[0;32m    241\u001b[0m                          response.content.decode('utf-8'))\n\u001b[1;32m--> 242\u001b[1;33m             raise V20Error(response.status_code,\n\u001b[0m\u001b[0;32m    243\u001b[0m                            response.content.decode('utf-8'))\n\u001b[0;32m    244\u001b[0m         \u001b[1;32mreturn\u001b[0m \u001b[0mresponse\u001b[0m\u001b[1;33m\u001b[0m\u001b[1;33m\u001b[0m\u001b[0m\n",
      "\u001b[1;31mV20Error\u001b[0m: {\"trailingStopLossOrderRejectTransaction\":{\"id\":\"221\",\"accountID\":\"101-004-16285502-001\",\"userID\":16285502,\"batchID\":\"221\",\"requestID\":\"42801226033247603\",\"time\":\"2021-03-02T08:15:02.000950205Z\",\"type\":\"TRAILING_STOP_LOSS_ORDER_REJECT\",\"rejectReason\":\"PRICE_DISTANCE_INVALID\",\"tradeID\":\"208\",\"timeInForce\":\"GTC\",\"triggerCondition\":\"DEFAULT\",\"distance\":\"0.00000\",\"reason\":\"REPLACEMENT\",\"replacesOrderID\":\"218\",\"intendedReplacesOrderID\":\"218\"},\"relatedTransactionIDs\":[\"221\"],\"lastTransactionID\":\"221\",\"errorMessage\":\"The price distance specifed is invalid\",\"errorCode\":\"PRICE_DISTANCE_INVALID\"}"
     ]
    }
   ],
   "source": [
    "data ={\n",
    "\"trailingStopLoss\": {\n",
    "\"timeInForce\": \"GTC\",\n",
    "\"distance\": '0.00000'\n",
    "}\n",
    "}\n",
    "\n",
    "r = trades.TradeCRCDO(accountID=accountID,\n",
    "tradeID='208',data=data)\n",
    "api.request(r)"
   ]
  },
  {
   "cell_type": "code",
   "execution_count": 50,
   "metadata": {},
   "outputs": [
    {
     "data": {
      "text/plain": [
       "{'account': {'guaranteedStopLossOrderMode': 'DISABLED',\n",
       "  'hedgingEnabled': False,\n",
       "  'id': '101-004-16285502-001',\n",
       "  'createdTime': '2020-08-30T07:48:54.934000655Z',\n",
       "  'currency': 'GBP',\n",
       "  'createdByUserID': 16285502,\n",
       "  'alias': 'Primary',\n",
       "  'marginRate': '0.02',\n",
       "  'lastTransactionID': '204',\n",
       "  'balance': '100019.4225',\n",
       "  'openTradeCount': 1,\n",
       "  'openPositionCount': 1,\n",
       "  'pendingOrderCount': 0,\n",
       "  'pl': '104.4340',\n",
       "  'resettablePL': '104.4340',\n",
       "  'resettablePLTime': '0',\n",
       "  'financing': '-85.0115',\n",
       "  'commission': '0.0000',\n",
       "  'dividendAdjustment': '0',\n",
       "  'guaranteedExecutionFees': '0.0000',\n",
       "  'unrealizedPL': '-0.0130',\n",
       "  'NAV': '100019.4095',\n",
       "  'marginUsed': '2.7873',\n",
       "  'marginAvailable': '100016.6223',\n",
       "  'positionValue': '55.7457',\n",
       "  'marginCloseoutUnrealizedPL': '-0.0086',\n",
       "  'marginCloseoutNAV': '100019.4139',\n",
       "  'marginCloseoutMarginUsed': '2.7873',\n",
       "  'marginCloseoutPositionValue': '55.7457',\n",
       "  'marginCloseoutPercent': '0.00001',\n",
       "  'withdrawalLimit': '100016.6223',\n",
       "  'marginCallMarginUsed': '2.7873',\n",
       "  'marginCallPercent': '0.00003'},\n",
       " 'lastTransactionID': '204'}"
      ]
     },
     "execution_count": 50,
     "metadata": {},
     "output_type": "execute_result"
    }
   ],
   "source": [
    "r = accounts.AccountSummary(accountID)\n",
    "api.request(r)"
   ]
  },
  {
   "cell_type": "code",
   "execution_count": 51,
   "metadata": {},
   "outputs": [],
   "source": [
    "import oandapyV20.endpoints.forexlabs as labs"
   ]
  },
  {
   "cell_type": "code",
   "execution_count": 65,
   "metadata": {},
   "outputs": [],
   "source": [
    "params ={\n",
    "\"instrument\": \"GBP_USD\"\n",
    "}\n"
   ]
  },
  {
   "cell_type": "code",
   "execution_count": 66,
   "metadata": {},
   "outputs": [
    {
     "data": {
      "text/plain": [
       "{'provider': 'autochartist',\n",
       " 'signals': [{'data': {'points': {'keytime': {'6': 0,\n",
       "      '3': 1613487600,\n",
       "      '7': 0,\n",
       "      '9': 0,\n",
       "      '2': 1613545200,\n",
       "      '8': 0,\n",
       "      '1': 1614333600,\n",
       "      '4': 1613422800,\n",
       "      '10': 0,\n",
       "      '5': 1613372400}},\n",
       "    'patternendtime': 1614603600,\n",
       "    'price': 1.386955},\n",
       "   'type': 'keylevel',\n",
       "   'instrument': 'GBP_USD',\n",
       "   'id': 39831286,\n",
       "   'meta': {'scores': {'quality': 5},\n",
       "    'patterntype': 'Approaching',\n",
       "    'probability': 79.49,\n",
       "    'interval': 60,\n",
       "    'direction': -1,\n",
       "    'pattern': 'Support',\n",
       "    'length': 245,\n",
       "    'historicalstats': {'symbol': {'correct': 714,\n",
       "      'percent': 81.23,\n",
       "      'total': 879},\n",
       "     'pattern': {'correct': 28192, 'percent': 80.11, 'total': 35193},\n",
       "     'hourofday': {'correct': 2436, 'percent': 78.78, 'total': 3092}},\n",
       "    'completed': 0}}]}"
      ]
     },
     "execution_count": 66,
     "metadata": {},
     "output_type": "execute_result"
    }
   ],
   "source": [
    "r = labs.Autochartist(params=params)\n",
    "api.request(r)"
   ]
  },
  {
   "cell_type": "code",
   "execution_count": 64,
   "metadata": {},
   "outputs": [
    {
     "data": {
      "text/plain": [
       "{}"
      ]
     },
     "execution_count": 64,
     "metadata": {},
     "output_type": "execute_result"
    }
   ],
   "source": [
    "r.response"
   ]
  },
  {
   "cell_type": "code",
   "execution_count": 69,
   "metadata": {},
   "outputs": [],
   "source": [
    "params ={\n",
    "\"instrument\": \"EUR_USD\",\n",
    "\"period\": 864000\n",
    "}\n"
   ]
  },
  {
   "cell_type": "code",
   "execution_count": 70,
   "metadata": {},
   "outputs": [
    {
     "data": {
      "text/plain": [
       "[{'currency': 'USD',\n",
       "  'unit': '',\n",
       "  'timestamp': 1614092400,\n",
       "  'region': 'americas',\n",
       "  'title': \"Fed's Powell Delivers Semi-Annual Monetary Policy Report\",\n",
       "  'impact': 3},\n",
       " {'market': '90',\n",
       "  'actual': '91.3',\n",
       "  'region': 'americas',\n",
       "  'currency': 'USD',\n",
       "  'previous': '89.3',\n",
       "  'unit': 'Index',\n",
       "  'timestamp': 1614092400,\n",
       "  'title': 'Consumer Confidence',\n",
       "  'impact': 2},\n",
       " {'market': '856',\n",
       "  'actual': '923',\n",
       "  'region': 'americas',\n",
       "  'currency': 'USD',\n",
       "  'forecast': '850',\n",
       "  'previous': '842',\n",
       "  'unit': 'K',\n",
       "  'timestamp': 1614178800,\n",
       "  'title': 'New Home Sales',\n",
       "  'impact': 2},\n",
       " {'market': '-14',\n",
       "  'actual': '-12.9',\n",
       "  'region': 'europe',\n",
       "  'currency': 'EUR',\n",
       "  'previous': '-15.6',\n",
       "  'unit': 'Index',\n",
       "  'timestamp': 1614236400,\n",
       "  'title': 'GFK Consumer Sentiment',\n",
       "  'impact': 2},\n",
       " {'market': '825',\n",
       "  'actual': '730',\n",
       "  'region': 'americas',\n",
       "  'currency': 'USD',\n",
       "  'previous': '861',\n",
       "  'unit': 'K',\n",
       "  'timestamp': 1614259800,\n",
       "  'title': 'Initial Claims',\n",
       "  'impact': 3},\n",
       " {'market': '0.7',\n",
       "  'actual': '1.4',\n",
       "  'region': 'americas',\n",
       "  'currency': 'USD',\n",
       "  'forecast': '0.8',\n",
       "  'previous': '1.1',\n",
       "  'unit': '%',\n",
       "  'timestamp': 1614259800,\n",
       "  'title': 'Durables Ex Transportation',\n",
       "  'impact': 2},\n",
       " {'market': '1',\n",
       "  'actual': '3.4',\n",
       "  'region': 'americas',\n",
       "  'currency': 'USD',\n",
       "  'forecast': '2',\n",
       "  'previous': '0.5',\n",
       "  'unit': '%',\n",
       "  'timestamp': 1614259800,\n",
       "  'title': 'Durable Goods Orders',\n",
       "  'impact': 2},\n",
       " {'market': '4.2',\n",
       "  'region': 'americas',\n",
       "  'currency': 'USD',\n",
       "  'forecast': '4',\n",
       "  'previous': '4',\n",
       "  'unit': '%',\n",
       "  'timestamp': 1614259800,\n",
       "  'title': 'Quarterly GDP Annualized',\n",
       "  'impact': 3},\n",
       " {'market': '0',\n",
       "  'actual': '-2.8',\n",
       "  'previous': '-0.3',\n",
       "  'currency': 'USD',\n",
       "  'unit': 'Index',\n",
       "  'timestamp': 1614265200,\n",
       "  'region': 'americas',\n",
       "  'title': 'Pending Home Sales'},\n",
       " {'market': '2.5',\n",
       "  'actual': '2.4',\n",
       "  'region': 'americas',\n",
       "  'currency': 'USD',\n",
       "  'forecast': '2.6',\n",
       "  'previous': '-0.2',\n",
       "  'unit': '%',\n",
       "  'timestamp': 1614346200,\n",
       "  'title': 'Personal spending',\n",
       "  'impact': 2},\n",
       " {'market': '-83.1',\n",
       "  'actual': '-83.74',\n",
       "  'region': 'americas',\n",
       "  'currency': 'USD',\n",
       "  'forecast': '-84.8',\n",
       "  'previous': '-82.5',\n",
       "  'unit': 'Bn',\n",
       "  'timestamp': 1614346200,\n",
       "  'title': 'Advance Goods Trade Balance',\n",
       "  'impact': 2},\n",
       " {'market': '61',\n",
       "  'actual': '59.5',\n",
       "  'region': 'americas',\n",
       "  'currency': 'USD',\n",
       "  'previous': '63.8',\n",
       "  'unit': 'Index',\n",
       "  'timestamp': 1614350700,\n",
       "  'title': 'Chicago PMI',\n",
       "  'impact': 1},\n",
       " {'market': '76.5',\n",
       "  'previous': '76.2',\n",
       "  'currency': 'USD',\n",
       "  'unit': 'Index',\n",
       "  'timestamp': 1614351600,\n",
       "  'region': 'americas',\n",
       "  'title': 'Univ of Mich Sentiment',\n",
       "  'impact': 2},\n",
       " {'market': '58.599999',\n",
       "  'actual': '60.8',\n",
       "  'region': 'americas',\n",
       "  'currency': 'USD',\n",
       "  'forecast': '59',\n",
       "  'previous': '58.7',\n",
       "  'unit': 'Index',\n",
       "  'timestamp': 1614610800,\n",
       "  'title': 'ISM Manufacturing',\n",
       "  'impact': 2}]"
      ]
     },
     "execution_count": 70,
     "metadata": {},
     "output_type": "execute_result"
    }
   ],
   "source": [
    "r = labs.Calendar(params=params)\n",
    "api.request(r)"
   ]
  },
  {
   "cell_type": "code",
   "execution_count": null,
   "metadata": {},
   "outputs": [],
   "source": []
  },
  {
   "cell_type": "code",
   "execution_count": null,
   "metadata": {},
   "outputs": [],
   "source": []
  }
 ],
 "metadata": {
  "kernelspec": {
   "display_name": "Python 3.8.2 32-bit",
   "language": "python",
   "name": "python38232bit6db602a395f94e9ba2adcc39a1628c13"
  },
  "language_info": {
   "codemirror_mode": {
    "name": "ipython",
    "version": 3
   },
   "file_extension": ".py",
   "mimetype": "text/x-python",
   "name": "python",
   "nbconvert_exporter": "python",
   "pygments_lexer": "ipython3",
   "version": "3.8.2"
  }
 },
 "nbformat": 4,
 "nbformat_minor": 4
}
